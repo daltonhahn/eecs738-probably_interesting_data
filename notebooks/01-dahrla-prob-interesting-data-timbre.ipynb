{
 "cells": [
  {
   "cell_type": "markdown",
   "metadata": {},
   "source": [
    "# Probably Interesting Data\n",
    " - Dalton Hahn (2762306) and Ron Andrews (1083734)\n",
    "## Audio features of songs ranging from 1922 to 2011\n",
    "\n",
    "### Build a heuristic to model the data using mixture models of probability distributions programmatically\n",
    "https://www.kaggle.com/uciml/msd-audio-features\n",
    "\n"
   ]
  },
  {
   "cell_type": "markdown",
   "metadata": {},
   "source": [
    "## Madness Method\n",
    "We will first investigate the data available in the kaggle dataset for Timbre from various songs over time to identify the trends in the data - looking for interesting features in the data.\n",
    "Once we have determined the values of focus, we will normalize the data using a Guassian Normal Distribution Function.\n",
    "With the normalized model data, we will plot the values, looking for interesting trends in the data. We will remove data that is uninteresting (few characteristics) or which go out of bounds from the more 'normal' dataset.\n",
    "At the end, with our final collection of data parameters, we will plot a mean function against the data to see where the moderate pattern lies."
   ]
  },
  {
   "cell_type": "code",
   "execution_count": 1,
   "metadata": {},
   "outputs": [],
   "source": [
    "import pandas as pd\n",
    "import numpy as np\n",
    "import datetime as dt\n",
    "import seaborn as sns\n",
    "import matplotlib.pyplot as plt\n",
    "import math\n",
    "from statistics import mean, stdev"
   ]
  },
  {
   "cell_type": "markdown",
   "metadata": {},
   "source": [
    "## Read in the data"
   ]
  },
  {
   "cell_type": "code",
   "execution_count": 2,
   "metadata": {},
   "outputs": [],
   "source": [
    "df = pd.read_csv(\"../data/external/audio-features-of-songs-ranging-from-1922-to-2011.zip\", compression=\"zip\")"
   ]
  },
  {
   "cell_type": "code",
   "execution_count": 3,
   "metadata": {},
   "outputs": [
    {
     "data": {
      "text/html": [
       "<div>\n",
       "<style scoped>\n",
       "    .dataframe tbody tr th:only-of-type {\n",
       "        vertical-align: middle;\n",
       "    }\n",
       "\n",
       "    .dataframe tbody tr th {\n",
       "        vertical-align: top;\n",
       "    }\n",
       "\n",
       "    .dataframe thead th {\n",
       "        text-align: right;\n",
       "    }\n",
       "</style>\n",
       "<table border=\"1\" class=\"dataframe\">\n",
       "  <thead>\n",
       "    <tr style=\"text-align: right;\">\n",
       "      <th></th>\n",
       "      <th>label</th>\n",
       "      <th>TimbreAvg1</th>\n",
       "      <th>TimbreAvg2</th>\n",
       "      <th>TimbreAvg3</th>\n",
       "      <th>TimbreAvg4</th>\n",
       "      <th>TimbreAvg5</th>\n",
       "      <th>TimbreAvg6</th>\n",
       "      <th>TimbreAvg7</th>\n",
       "      <th>TimbreAvg8</th>\n",
       "      <th>TimbreAvg9</th>\n",
       "      <th>...</th>\n",
       "      <th>TimbreCovariance69</th>\n",
       "      <th>TimbreCovariance70</th>\n",
       "      <th>TimbreCovariance71</th>\n",
       "      <th>TimbreCovariance72</th>\n",
       "      <th>TimbreCovariance73</th>\n",
       "      <th>TimbreCovariance74</th>\n",
       "      <th>TimbreCovariance75</th>\n",
       "      <th>TimbreCovariance76</th>\n",
       "      <th>TimbreCovariance77</th>\n",
       "      <th>TimbreCovariance78</th>\n",
       "    </tr>\n",
       "  </thead>\n",
       "  <tbody>\n",
       "    <tr>\n",
       "      <th>0</th>\n",
       "      <td>2001</td>\n",
       "      <td>49.94357</td>\n",
       "      <td>21.47114</td>\n",
       "      <td>73.0775</td>\n",
       "      <td>8.74861</td>\n",
       "      <td>-17.40628</td>\n",
       "      <td>-13.09905</td>\n",
       "      <td>-25.01202</td>\n",
       "      <td>-12.23257</td>\n",
       "      <td>7.83089</td>\n",
       "      <td>...</td>\n",
       "      <td>13.0162</td>\n",
       "      <td>-54.40548</td>\n",
       "      <td>58.99367</td>\n",
       "      <td>15.37344</td>\n",
       "      <td>1.11144</td>\n",
       "      <td>-23.08793</td>\n",
       "      <td>68.40795</td>\n",
       "      <td>-1.82223</td>\n",
       "      <td>-27.46348</td>\n",
       "      <td>2.26327</td>\n",
       "    </tr>\n",
       "  </tbody>\n",
       "</table>\n",
       "<p>1 rows × 91 columns</p>\n",
       "</div>"
      ],
      "text/plain": [
       "   label  TimbreAvg1  TimbreAvg2  TimbreAvg3  TimbreAvg4  TimbreAvg5  \\\n",
       "0   2001    49.94357    21.47114     73.0775     8.74861   -17.40628   \n",
       "\n",
       "   TimbreAvg6  TimbreAvg7  TimbreAvg8  TimbreAvg9         ...          \\\n",
       "0   -13.09905   -25.01202   -12.23257     7.83089         ...           \n",
       "\n",
       "   TimbreCovariance69  TimbreCovariance70  TimbreCovariance71  \\\n",
       "0             13.0162           -54.40548            58.99367   \n",
       "\n",
       "   TimbreCovariance72  TimbreCovariance73  TimbreCovariance74  \\\n",
       "0            15.37344             1.11144           -23.08793   \n",
       "\n",
       "   TimbreCovariance75  TimbreCovariance76  TimbreCovariance77  \\\n",
       "0            68.40795            -1.82223           -27.46348   \n",
       "\n",
       "   TimbreCovariance78  \n",
       "0             2.26327  \n",
       "\n",
       "[1 rows x 91 columns]"
      ]
     },
     "execution_count": 3,
     "metadata": {},
     "output_type": "execute_result"
    }
   ],
   "source": [
    "df.head(1)"
   ]
  },
  {
   "cell_type": "markdown",
   "metadata": {},
   "source": [
    "## Feature Engineering"
   ]
  },
  {
   "cell_type": "code",
   "execution_count": 4,
   "metadata": {},
   "outputs": [
    {
     "data": {
      "text/plain": [
       "array([2001, 2007, 2008, 2002, 2004, 2003, 1999, 1992, 1997, 1987, 2000,\n",
       "       2005, 1996, 1998, 2009, 2006, 1993, 1991, 1933, 1930, 1935, 1995,\n",
       "       1941, 1990, 1943, 1994, 1974, 1976, 1975, 1970, 1971, 1981, 1989,\n",
       "       1969, 1972, 1973, 1983, 2010, 1985, 1988, 1979, 1980, 1986, 1958,\n",
       "       1978, 1968, 1962, 1967, 1982, 1984, 1961, 1966, 1964, 1960, 1965,\n",
       "       1963, 1977, 1942, 1945, 1955, 1926, 1927, 1957, 1959, 1956, 1954,\n",
       "       1928, 1948, 1922, 1952, 1953, 1944, 1946, 1949, 1950, 1939, 1932,\n",
       "       1938, 1937, 1936, 1940, 1951, 1929, 1934, 1947, 1931, 1925, 1924,\n",
       "       2011])"
      ]
     },
     "execution_count": 4,
     "metadata": {},
     "output_type": "execute_result"
    }
   ],
   "source": [
    "df[df.columns[0]].unique()"
   ]
  },
  {
   "cell_type": "code",
   "execution_count": 5,
   "metadata": {},
   "outputs": [
    {
     "data": {
      "image/png": "[encoded data removed]",
      "text/plain": [
       "<Figure size 432x288 with 1 Axes>"
      ]
     },
     "metadata": {},
     "output_type": "display_data"
    }
   ],
   "source": [
    "hist = df.hist(column = df.columns[0])"
   ]
  },
  {
   "cell_type": "code",
   "execution_count": 6,
   "metadata": {},
   "outputs": [
    {
     "data": {
      "image/png": "[encoded data removed]",
      "text/plain": [
       "<Figure size 432x288 with 1 Axes>"
      ]
     },
     "metadata": {},
     "output_type": "display_data"
    }
   ],
   "source": [
    "plt.plot(df['label'], df['TimbreAvg1'], 'ro')\n",
    "plt.show()"
   ]
  },
  {
   "cell_type": "markdown",
   "metadata": {},
   "source": [
    "Based on observation from distribution of songs over years, we plan to trim dataset to focus on solely songs produced in the year 2000 or later.  This still provides us a large amount of data to work with."
   ]
  },
  {
   "cell_type": "code",
   "execution_count": 7,
   "metadata": {},
   "outputs": [],
   "source": [
    "df2 = df[['label', 'TimbreAvg1']].copy()"
   ]
  },
  {
   "cell_type": "code",
   "execution_count": 8,
   "metadata": {},
   "outputs": [
    {
     "data": {
      "image/png": "[encoded data removed]",
      "text/plain": [
       "<Figure size 432x288 with 1 Axes>"
      ]
     },
     "metadata": {},
     "output_type": "display_data"
    }
   ],
   "source": [
    "hist2 = df2.hist(column = df2.columns[1])"
   ]
  },
  {
   "cell_type": "markdown",
   "metadata": {},
   "source": [
    "## Work the data into a Mixed Guassian Model"
   ]
  },
  {
   "cell_type": "markdown",
   "metadata": {},
   "source": [
    "#### Guassian Transformation\n",
    "The following function, gauss_transform, goes through the dataset and normalizes all of the values using a Gaussian distribution function: \n",
    "$\\Large \\mathcal{N}(x|\\mu,\\sigma^2) = \\frac{1}{\\sigma \\sqrt{2 \\pi}}    e^{-\\frac{(x - \\mu)^2}{2 (\\mu^2)}}$"
   ]
  },
  {
   "cell_type": "code",
   "execution_count": 40,
   "metadata": {},
   "outputs": [],
   "source": [
    "def gauss_transform(col):\n",
    "    result_arr = []\n",
    "    \n",
    "    mu = mean(col)\n",
    "    sig = stdev(col)\n",
    "    frac_part = 1/(sig*math.sqrt(2*math.pi))\n",
    "    for val in col:\n",
    "        exponent_part = ((val - mu)**2) / (2*(mu**2)) * -1\n",
    "        result_arr.append(frac_part * math.exp(exponent_part))\n",
    "        \n",
    "    return result_arr\n",
    "        "
   ]
  },
  {
   "cell_type": "markdown",
   "metadata": {},
   "source": [
    "### Maximum Likelihood for Gaussian Distribution\n",
    "As per Bishop, the simple form for calculating likelihood is:\n",
    "$\\Large \\mu = \\frac{1}{N}\\Sigma_{n=1}^{N}x_n$ a.k.a. $\\Large \\pi_k$"
   ]
  },
  {
   "cell_type": "code",
   "execution_count": 41,
   "metadata": {},
   "outputs": [],
   "source": [
    "def likelihood(col):    \n",
    "    return sum(col) / len(col)"
   ]
  },
  {
   "cell_type": "markdown",
   "metadata": {},
   "source": [
    "### Observation\n",
    "Having looked at the data, we need to be able to bin the data\n",
    "Our focus, based on feature engineering, will be the Averages"
   ]
  },
  {
   "cell_type": "code",
   "execution_count": 42,
   "metadata": {},
   "outputs": [],
   "source": [
    "## Expects two column dataframe\n",
    "## date, value and the increment size\n",
    "## size is number of years to bin\n",
    "## Min is 1922 (start 1920), Max is 2011 (stop 2020)\n",
    "## Bins and averages values\n",
    "def bin_data(df, size):\n",
    "    ## Init bins\n",
    "    dates = [i for i in range(1920,2030,size)]\n",
    "    values = [0 for _ in range(1920,2030,size)]\n",
    "    \n",
    "    ## track count and bin index\n",
    "    count = 0\n",
    "    i = 0\n",
    "    \n",
    "    for yr, val in df.values:\n",
    "        if int(yr) < int(dates[i+1]):\n",
    "            count += 1\n",
    "            values[i] += val\n",
    "        else:\n",
    "            values[i] /= count\n",
    "            count = 0\n",
    "            i += 1\n",
    "            values[i] += val\n",
    "            \n",
    "    return [dates, values]"
   ]
  },
  {
   "cell_type": "code",
   "execution_count": 43,
   "metadata": {},
   "outputs": [],
   "source": [
    "## Each column is numbered with 'TimbreAvg' as the prefix\n",
    "## label column is the date (year)\n",
    "## Init\n",
    "binsize = 10\n",
    "avestart = 1\n",
    "avestop = 13\n",
    "avestep = 1\n",
    "binned_df = pd.DataFrame()\n",
    "for i in range(avestart,avestop,avestep):\n",
    "    temp_df = df[['label', 'TimbreAvg'+str(i)]].copy()\n",
    "    temp_df = temp_df.sort_values(['label'], ascending=True)\n",
    "    bin_array = bin_data(temp_df,binsize)\n",
    "    if 'Year' not in binned_df:\n",
    "        binned_df['Year'] = bin_array[0]\n",
    "    binned_df['TimbreAvg'+str(i)] = bin_array[1]"
   ]
  },
  {
   "cell_type": "markdown",
   "metadata": {},
   "source": [
    "### Perform Guassian Transformation on each column (TimbreAve*)"
   ]
  },
  {
   "cell_type": "code",
   "execution_count": 54,
   "metadata": {},
   "outputs": [
    {
     "name": "stdout",
     "output_type": "stream",
     "text": [
      "   Year  TimbreAvg1  TimbreAvg2  TimbreAvg3  TimbreAvg4  TimbreAvg5  \\\n",
      "0  1920    0.000002    0.000034    0.000017    0.000065    0.000013   \n",
      "1  1930    0.000002    0.000035    0.000017    0.000065    0.000013   \n",
      "2  1940    0.000002    0.000034    0.000017    0.000065    0.000013   \n",
      "3  1950    0.000002    0.000034    0.000017    0.000065    0.000013   \n",
      "4  1960    0.000002    0.000033    0.000017    0.000065    0.000013   \n",
      "\n",
      "   TimbreAvg6     TimbreAvg7  TimbreAvg8  TimbreAvg9  TimbreAvg10  \\\n",
      "0    0.000007  7.655167e-223    0.000035    0.000023     0.000050   \n",
      "1    0.000007  5.409807e-131    0.000035    0.000023     0.000050   \n",
      "2    0.000007   2.743112e-74    0.000035    0.000023     0.000050   \n",
      "3    0.000007   5.538487e-49    0.000035    0.000023     0.000050   \n",
      "4    0.000007   5.647989e-13    0.000035    0.000023     0.000049   \n",
      "\n",
      "   TimbreAvg11  TimbreAvg12  \n",
      "0     0.000258     0.000044  \n",
      "1     0.000256     0.000044  \n",
      "2     0.000256     0.000045  \n",
      "3     0.000255     0.000044  \n",
      "4     0.000256     0.000044  \n",
      "[1.727264830963458e-06, 3.0427689209680834e-05, 1.5137835794691271e-05, 5.925046664243232e-05, 1.174859998149465e-05, 6.036187294275609e-06, 0.002002317914812731, 3.169679215933345e-05, 2.063482996004198e-05, 4.506410672030336e-05, 0.00023328226316749053, 4.0330609624959795e-05]\n"
     ]
    }
   ],
   "source": [
    "## Init\n",
    "gauss_df = pd.DataFrame()\n",
    "likely = [0 for _ in range(avestart,avestop,avestep)]\n",
    "gauss_df['Year'] = binned_df['Year']\n",
    "for i in range(avestart,avestop,avestep):\n",
    "    ## Pass each column to the transformation function\n",
    "    gauss_df['TimbreAvg'+str(i)] = gauss_transform(binned_df['TimbreAvg'+str(i)].values.tolist())\n",
    "    likely[i-1] = likelihood(gauss_df['TimbreAvg'+str(i)].values.tolist())"
   ]
  },
  {
   "cell_type": "markdown",
   "metadata": {},
   "source": [
    "#### Gaussian Averaging\n",
    "Given a Gaussian Distribution Function, the following function will compress the data into decades for easier visualization. This binning is done due to looking at the unbinned data and needing to smooth the trends. By processing the data by ordered element and combining data points that fall within the same decade (i.e. - 2001, 2002, 2003, etc.), we can create a much smoother graph for making observations about the data."
   ]
  },
  {
   "cell_type": "code",
   "execution_count": 11,
   "metadata": {},
   "outputs": [
    {
     "name": "stderr",
     "output_type": "stream",
     "text": [
      "IOPub data rate exceeded.\n",
      "The notebook server will temporarily stop sending output\n",
      "to the client in order to avoid crashing it.\n",
      "To change this limit, set the config variable\n",
      "`--NotebookApp.iopub_data_rate_limit`.\n",
      "\n",
      "Current values:\n",
      "NotebookApp.iopub_data_rate_limit=1000000.0 (bytes/sec)\n",
      "NotebookApp.rate_limit_window=3.0 (secs)\n",
      "\n"
     ]
    }
   ],
   "source": [
    "gaus_plots = []\n",
    "timbre = 'TimbreAvg'\n",
    "timbre_aves = [timbre+str(i) for i in range(1,10)]\n",
    "counter = 1\n",
    "for tave in timbre_aves:\n",
    "    gaus_vals = gauss_transform(df[tave].values.tolist())\n",
    "    years = df['label'].values.tolist()\n",
    "    gaus_plot = pd.DataFrame({'Year': years,'TA'+str(timbre_aves.index(tave)): gaus_vals})\n",
    "    gaus_plots.append(goGausAveGraph(gaus_plot, counter))\n",
    "    counter += 1"
   ]
  },
  {
   "cell_type": "code",
   "execution_count": 13,
   "metadata": {},
   "outputs": [],
   "source": [
    "x = gaus_plots[3]['Year'].values.tolist()\n",
    "y = gaus_plots[3]['TA4'].values.tolist()\n",
    "y = [y[i]+gaus_plots[2]['TA3'].values.tolist()[i] for i in range(len(y))]\n",
    "y = [y[i]+gaus_plots[6]['TA7'].values.tolist()[i] for i in range(len(y))]\n",
    "y = [y[i]/3 for i in range(len(y))]\n",
    "aveplot = pd.DataFrame({'Year': x,'AVE': y})"
   ]
  },
  {
   "cell_type": "code",
   "execution_count": 14,
   "metadata": {},
   "outputs": [
    {
     "data": {
      "image/png": "[encoded data removed]",
      "text/plain": [
       "<Figure size 432x288 with 1 Axes>"
      ]
     },
     "metadata": {},
     "output_type": "display_data"
    }
   ],
   "source": [
    "for i in range(1,len(gaus_plots)):\n",
    "    if i in [1,4,5,7,8]:\n",
    "        continue\n",
    "    TA = 'TA'+str(i+1)\n",
    "    gplot = gaus_plots[i]\n",
    "    plt.plot( 'Year', str(TA), data=gplot, marker='', linewidth=2)\n",
    "    \n",
    "plt.plot( 'Year', 'AVE', data=aveplot, marker='', linewidth=4)\n",
    "plt.legend()\n",
    "plt.show()\n"
   ]
  },
  {
   "cell_type": "markdown",
   "metadata": {},
   "source": [
    "#### Conclusion\n",
    "In the above graphs, we have eliminated data that was either an outlier or that did not follow an interesting trend that we noticed developing in the dataset.  By plotting the three normalized features together in the above graph, we then applied an average across all three features to establish a trend baseline for describing the observed trend.  As an observation of our final data, the instruments/styles that these timbres represent fell out of popularity entering the 2000's and beyond."
   ]
  },
  {
   "cell_type": "code",
   "execution_count": null,
   "metadata": {},
   "outputs": [],
   "source": []
  }
 ],
 "metadata": {
  "kernelspec": {
   "display_name": "Python 3",
   "language": "python",
   "name": "python3"
  },
  "language_info": {
   "codemirror_mode": {
    "name": "ipython",
    "version": 3
   },
   "file_extension": ".py",
   "mimetype": "text/x-python",
   "name": "python",
   "nbconvert_exporter": "python",
   "pygments_lexer": "ipython3",
   "version": "3.6.5"
  }
 },
 "nbformat": 4,
 "nbformat_minor": 2
}
