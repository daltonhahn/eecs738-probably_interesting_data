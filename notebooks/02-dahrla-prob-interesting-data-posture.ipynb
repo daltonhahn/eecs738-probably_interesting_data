{
 "cells": [
  {
   "cell_type": "markdown",
   "metadata": {},
   "source": [
    "# Probably Interesting Data\n",
    " - Dalton Hahn (2762306) and Ron Andrews (1083734)\n",
    "## Localization Data for Posture Reconstruction\n",
    "\n",
    "### Build a heuristic to model the data using mixture models of probability distributions programmatically\n",
    "https://www.kaggle.com/uciml/posture-reconstruction\n",
    "\n",
    "**An important note is that the .zip file provided on kaggle and the .zip file that we utilize in the pandas read_csv() call are different.  In order to properly read in the data using pandas, we opened the .zip archive provided from kaggle and removed a README file present within the directory.  From there, we simply re-compressed the file and uploaded it within the /data/external/ directory.  The .zip present within this Github repository is the correct .zip archive that functions correctly with our program. **\n",
    "\n"
   ]
  },
  {
   "cell_type": "markdown",
   "metadata": {},
   "source": [
    "## Madness Method\n",
    "We will first investigate the data available in the kaggle dataset for posture recognition in elderly people.  The data was collected from various sensors present upon subject's bodies.  We begin first by searching for interesting features present in the data.\n",
    "\n",
    "Once an area of focus has been established, we begin the normalization process using Gaussian Normal Distribution Functions.\n",
    "\n",
    "\n",
    "\n",
    "Timbre from various songs over time to identify the trends in the data - looking for interesting features in the data.\n",
    "Once we have determined the values of focus, we will normalize the data using a Guassian Normal Distribution Function.\n",
    "With the normalized model data, we will plot the values, looking for interesting trends in the data. We will remove data that is uninteresting (few characteristics) or which go out of bounds from the more 'normal' dataset.\n",
    "At the end, with our final collection of data parameters, we will plot a mean function against the data to see where the moderate pattern lies."
   ]
  },
  {
   "cell_type": "code",
   "execution_count": 1,
   "metadata": {},
   "outputs": [],
   "source": [
    "import pandas as pd\n",
    "import numpy as np\n",
    "import datetime as dt\n",
    "import seaborn as sns\n",
    "import matplotlib.pyplot as plt\n",
    "import math\n",
    "from statistics import mean, stdev"
   ]
  },
  {
   "cell_type": "markdown",
   "metadata": {},
   "source": [
    "## Read in the data"
   ]
  },
  {
   "cell_type": "code",
   "execution_count": 2,
   "metadata": {},
   "outputs": [],
   "source": [
    "df = pd.read_csv(\"../data/external/ConfLongDemo_JSI.csv.zip\", compression=\"zip\")"
   ]
  },
  {
   "cell_type": "code",
   "execution_count": 3,
   "metadata": {},
   "outputs": [
    {
     "data": {
      "text/html": [
       "<div>\n",
       "<style scoped>\n",
       "    .dataframe tbody tr th:only-of-type {\n",
       "        vertical-align: middle;\n",
       "    }\n",
       "\n",
       "    .dataframe tbody tr th {\n",
       "        vertical-align: top;\n",
       "    }\n",
       "\n",
       "    .dataframe thead th {\n",
       "        text-align: right;\n",
       "    }\n",
       "</style>\n",
       "<table border=\"1\" class=\"dataframe\">\n",
       "  <thead>\n",
       "    <tr style=\"text-align: right;\">\n",
       "      <th></th>\n",
       "      <th>A01</th>\n",
       "      <th>010-000-024-033</th>\n",
       "      <th>633790226051280329</th>\n",
       "      <th>27.05.2009 14:03:25:127</th>\n",
       "      <th>4.062931060791016</th>\n",
       "      <th>1.8924342393875122</th>\n",
       "      <th>0.5074254274368286</th>\n",
       "      <th>walking</th>\n",
       "    </tr>\n",
       "  </thead>\n",
       "  <tbody>\n",
       "    <tr>\n",
       "      <th>0</th>\n",
       "      <td>A01</td>\n",
       "      <td>020-000-033-111</td>\n",
       "      <td>633790226051820913</td>\n",
       "      <td>27.05.2009 14:03:25:183</td>\n",
       "      <td>4.291954</td>\n",
       "      <td>1.78114</td>\n",
       "      <td>1.344495</td>\n",
       "      <td>walking</td>\n",
       "    </tr>\n",
       "  </tbody>\n",
       "</table>\n",
       "</div>"
      ],
      "text/plain": [
       "   A01  010-000-024-033  633790226051280329  27.05.2009 14:03:25:127  \\\n",
       "0  A01  020-000-033-111  633790226051820913  27.05.2009 14:03:25:183   \n",
       "\n",
       "   4.062931060791016  1.8924342393875122  0.5074254274368286  walking  \n",
       "0           4.291954             1.78114            1.344495  walking  "
      ]
     },
     "execution_count": 3,
     "metadata": {},
     "output_type": "execute_result"
    }
   ],
   "source": [
    "df.head(1)"
   ]
  },
  {
   "cell_type": "markdown",
   "metadata": {},
   "source": [
    "## Feature Engineering"
   ]
  },
  {
   "cell_type": "code",
   "execution_count": 4,
   "metadata": {},
   "outputs": [
    {
     "data": {
      "text/plain": [
       "array(['A01', 'A02', 'A03', 'A04', 'A05', 'B01', 'B02', 'B03', 'B04',\n",
       "       'B05', 'C01', 'C02', 'C03', 'C04', 'C05', 'D01', 'D02', 'D03',\n",
       "       'D04', 'D05', 'E01', 'E02', 'E03', 'E04', 'E05'], dtype=object)"
      ]
     },
     "execution_count": 4,
     "metadata": {},
     "output_type": "execute_result"
    }
   ],
   "source": [
    "df[df.columns[0]].unique()"
   ]
  },
  {
   "cell_type": "code",
   "execution_count": 5,
   "metadata": {},
   "outputs": [
    {
     "data": {
      "image/png": "[encoded data removed]",
      "text/plain": [
       "<Figure size 432x288 with 1 Axes>"
      ]
     },
     "metadata": {
      "needs_background": "light"
     },
     "output_type": "display_data"
    }
   ],
   "source": [
    "hist = df.hist(column = df.columns[4])"
   ]
  },
  {
   "cell_type": "code",
   "execution_count": 6,
   "metadata": {},
   "outputs": [
    {
     "data": {
      "image/png": "[encoded data removed]",
      "text/plain": [
       "<Figure size 432x288 with 1 Axes>"
      ]
     },
     "metadata": {
      "needs_background": "light"
     },
     "output_type": "display_data"
    }
   ],
   "source": [
    "hist = df.hist(column = df.columns[5])"
   ]
  },
  {
   "cell_type": "code",
   "execution_count": 7,
   "metadata": {},
   "outputs": [
    {
     "data": {
      "image/png": "[encoded data removed]",
      "text/plain": [
       "<Figure size 432x288 with 1 Axes>"
      ]
     },
     "metadata": {
      "needs_background": "light"
     },
     "output_type": "display_data"
    }
   ],
   "source": [
    "hist = df.hist(column = df.columns[6])"
   ]
  },
  {
   "cell_type": "code",
   "execution_count": 8,
   "metadata": {},
   "outputs": [
    {
     "data": {
      "image/png": "[encoded data removed]",
      "text/plain": [
       "<Figure size 432x288 with 1 Axes>"
      ]
     },
     "metadata": {
      "needs_background": "light"
     },
     "output_type": "display_data"
    }
   ],
   "source": [
    "plt.plot(df['walking'], df['4.062931060791016'], 'ro')\n",
    "plt.show()"
   ]
  },
  {
   "cell_type": "code",
   "execution_count": 9,
   "metadata": {},
   "outputs": [
    {
     "data": {
      "image/png": "[encoded data removed]",
      "text/plain": [
       "<Figure size 432x288 with 1 Axes>"
      ]
     },
     "metadata": {
      "needs_background": "light"
     },
     "output_type": "display_data"
    }
   ],
   "source": [
    "plt.plot(df['walking'], df['1.8924342393875122'], 'ro')\n",
    "plt.show()"
   ]
  },
  {
   "cell_type": "code",
   "execution_count": 10,
   "metadata": {},
   "outputs": [
    {
     "data": {
      "image/png": "[encoded data removed]",
      "text/plain": [
       "<Figure size 432x288 with 1 Axes>"
      ]
     },
     "metadata": {
      "needs_background": "light"
     },
     "output_type": "display_data"
    }
   ],
   "source": [
    "plt.plot(df['walking'], df['0.5074254274368286'], 'ro')\n",
    "plt.show()"
   ]
  },
  {
   "cell_type": "markdown",
   "metadata": {},
   "source": [
    "Based on observation from . . ."
   ]
  },
  {
   "cell_type": "code",
   "execution_count": 11,
   "metadata": {},
   "outputs": [
    {
     "ename": "KeyError",
     "evalue": "\"['label' 'TimbreAvg1'] not in index\"",
     "output_type": "error",
     "traceback": [
      "\u001b[0;31m---------------------------------------------------------------------------\u001b[0m",
      "\u001b[0;31mKeyError\u001b[0m                                  Traceback (most recent call last)",
      "\u001b[0;32m<ipython-input-11-3ba170d1754d>\u001b[0m in \u001b[0;36m<module>\u001b[0;34m\u001b[0m\n\u001b[0;32m----> 1\u001b[0;31m \u001b[0mdf2\u001b[0m \u001b[0;34m=\u001b[0m \u001b[0mdf\u001b[0m\u001b[0;34m[\u001b[0m\u001b[0;34m[\u001b[0m\u001b[0;34m'label'\u001b[0m\u001b[0;34m,\u001b[0m \u001b[0;34m'TimbreAvg1'\u001b[0m\u001b[0;34m]\u001b[0m\u001b[0;34m]\u001b[0m\u001b[0;34m.\u001b[0m\u001b[0mcopy\u001b[0m\u001b[0;34m(\u001b[0m\u001b[0;34m)\u001b[0m\u001b[0;34m\u001b[0m\u001b[0;34m\u001b[0m\u001b[0m\n\u001b[0m",
      "\u001b[0;32m~/anaconda3/lib/python3.7/site-packages/pandas/core/frame.py\u001b[0m in \u001b[0;36m__getitem__\u001b[0;34m(self, key)\u001b[0m\n\u001b[1;32m   2680\u001b[0m         \u001b[0;32mif\u001b[0m \u001b[0misinstance\u001b[0m\u001b[0;34m(\u001b[0m\u001b[0mkey\u001b[0m\u001b[0;34m,\u001b[0m \u001b[0;34m(\u001b[0m\u001b[0mSeries\u001b[0m\u001b[0;34m,\u001b[0m \u001b[0mnp\u001b[0m\u001b[0;34m.\u001b[0m\u001b[0mndarray\u001b[0m\u001b[0;34m,\u001b[0m \u001b[0mIndex\u001b[0m\u001b[0;34m,\u001b[0m \u001b[0mlist\u001b[0m\u001b[0;34m)\u001b[0m\u001b[0;34m)\u001b[0m\u001b[0;34m:\u001b[0m\u001b[0;34m\u001b[0m\u001b[0;34m\u001b[0m\u001b[0m\n\u001b[1;32m   2681\u001b[0m             \u001b[0;31m# either boolean or fancy integer index\u001b[0m\u001b[0;34m\u001b[0m\u001b[0;34m\u001b[0m\u001b[0;34m\u001b[0m\u001b[0m\n\u001b[0;32m-> 2682\u001b[0;31m             \u001b[0;32mreturn\u001b[0m \u001b[0mself\u001b[0m\u001b[0;34m.\u001b[0m\u001b[0m_getitem_array\u001b[0m\u001b[0;34m(\u001b[0m\u001b[0mkey\u001b[0m\u001b[0;34m)\u001b[0m\u001b[0;34m\u001b[0m\u001b[0;34m\u001b[0m\u001b[0m\n\u001b[0m\u001b[1;32m   2683\u001b[0m         \u001b[0;32melif\u001b[0m \u001b[0misinstance\u001b[0m\u001b[0;34m(\u001b[0m\u001b[0mkey\u001b[0m\u001b[0;34m,\u001b[0m \u001b[0mDataFrame\u001b[0m\u001b[0;34m)\u001b[0m\u001b[0;34m:\u001b[0m\u001b[0;34m\u001b[0m\u001b[0;34m\u001b[0m\u001b[0m\n\u001b[1;32m   2684\u001b[0m             \u001b[0;32mreturn\u001b[0m \u001b[0mself\u001b[0m\u001b[0;34m.\u001b[0m\u001b[0m_getitem_frame\u001b[0m\u001b[0;34m(\u001b[0m\u001b[0mkey\u001b[0m\u001b[0;34m)\u001b[0m\u001b[0;34m\u001b[0m\u001b[0;34m\u001b[0m\u001b[0m\n",
      "\u001b[0;32m~/anaconda3/lib/python3.7/site-packages/pandas/core/frame.py\u001b[0m in \u001b[0;36m_getitem_array\u001b[0;34m(self, key)\u001b[0m\n\u001b[1;32m   2724\u001b[0m             \u001b[0;32mreturn\u001b[0m \u001b[0mself\u001b[0m\u001b[0;34m.\u001b[0m\u001b[0m_take\u001b[0m\u001b[0;34m(\u001b[0m\u001b[0mindexer\u001b[0m\u001b[0;34m,\u001b[0m \u001b[0maxis\u001b[0m\u001b[0;34m=\u001b[0m\u001b[0;36m0\u001b[0m\u001b[0;34m)\u001b[0m\u001b[0;34m\u001b[0m\u001b[0;34m\u001b[0m\u001b[0m\n\u001b[1;32m   2725\u001b[0m         \u001b[0;32melse\u001b[0m\u001b[0;34m:\u001b[0m\u001b[0;34m\u001b[0m\u001b[0;34m\u001b[0m\u001b[0m\n\u001b[0;32m-> 2726\u001b[0;31m             \u001b[0mindexer\u001b[0m \u001b[0;34m=\u001b[0m \u001b[0mself\u001b[0m\u001b[0;34m.\u001b[0m\u001b[0mloc\u001b[0m\u001b[0;34m.\u001b[0m\u001b[0m_convert_to_indexer\u001b[0m\u001b[0;34m(\u001b[0m\u001b[0mkey\u001b[0m\u001b[0;34m,\u001b[0m \u001b[0maxis\u001b[0m\u001b[0;34m=\u001b[0m\u001b[0;36m1\u001b[0m\u001b[0;34m)\u001b[0m\u001b[0;34m\u001b[0m\u001b[0;34m\u001b[0m\u001b[0m\n\u001b[0m\u001b[1;32m   2727\u001b[0m             \u001b[0;32mreturn\u001b[0m \u001b[0mself\u001b[0m\u001b[0;34m.\u001b[0m\u001b[0m_take\u001b[0m\u001b[0;34m(\u001b[0m\u001b[0mindexer\u001b[0m\u001b[0;34m,\u001b[0m \u001b[0maxis\u001b[0m\u001b[0;34m=\u001b[0m\u001b[0;36m1\u001b[0m\u001b[0;34m)\u001b[0m\u001b[0;34m\u001b[0m\u001b[0;34m\u001b[0m\u001b[0m\n\u001b[1;32m   2728\u001b[0m \u001b[0;34m\u001b[0m\u001b[0m\n",
      "\u001b[0;32m~/anaconda3/lib/python3.7/site-packages/pandas/core/indexing.py\u001b[0m in \u001b[0;36m_convert_to_indexer\u001b[0;34m(self, obj, axis, is_setter)\u001b[0m\n\u001b[1;32m   1325\u001b[0m                 \u001b[0;32mif\u001b[0m \u001b[0mmask\u001b[0m\u001b[0;34m.\u001b[0m\u001b[0many\u001b[0m\u001b[0;34m(\u001b[0m\u001b[0;34m)\u001b[0m\u001b[0;34m:\u001b[0m\u001b[0;34m\u001b[0m\u001b[0;34m\u001b[0m\u001b[0m\n\u001b[1;32m   1326\u001b[0m                     raise KeyError('{mask} not in index'\n\u001b[0;32m-> 1327\u001b[0;31m                                    .format(mask=objarr[mask]))\n\u001b[0m\u001b[1;32m   1328\u001b[0m \u001b[0;34m\u001b[0m\u001b[0m\n\u001b[1;32m   1329\u001b[0m                 \u001b[0;32mreturn\u001b[0m \u001b[0mcom\u001b[0m\u001b[0;34m.\u001b[0m\u001b[0m_values_from_object\u001b[0m\u001b[0;34m(\u001b[0m\u001b[0mindexer\u001b[0m\u001b[0;34m)\u001b[0m\u001b[0;34m\u001b[0m\u001b[0;34m\u001b[0m\u001b[0m\n",
      "\u001b[0;31mKeyError\u001b[0m: \"['label' 'TimbreAvg1'] not in index\""
     ]
    }
   ],
   "source": [
    "df2 = df[['label', 'TimbreAvg1']].copy()"
   ]
  },
  {
   "cell_type": "code",
   "execution_count": null,
   "metadata": {},
   "outputs": [],
   "source": [
    "hist2 = df2.hist(column = df2.columns[1])"
   ]
  },
  {
   "cell_type": "markdown",
   "metadata": {},
   "source": [
    "## Work the data into a Mixed Guassian Model"
   ]
  },
  {
   "cell_type": "markdown",
   "metadata": {},
   "source": [
    "#### Guassian Transformation\n",
    "The following function, gauss_transform, goes through the dataset and normalizes all of the values using a Gaussian distribution function: \n",
    "$\\Large \\mathcal{N}(x|\\mu,\\sigma^2) = \\frac{1}{\\sigma \\sqrt{2 \\pi}}    e^{-\\frac{(x - \\mu)^2}{2 (\\mu^2)}}$"
   ]
  },
  {
   "cell_type": "code",
   "execution_count": null,
   "metadata": {},
   "outputs": [],
   "source": [
    "def gauss_transform(col):\n",
    "    result_arr = []\n",
    "    \n",
    "    mu = mean(col)\n",
    "    sig = stdev(col)\n",
    "    frac_part = 1/(sig*math.sqrt(2*math.pi))\n",
    "    for val in col:\n",
    "        exponent_part = ((val - mu)**2) / (2*(mu**2)) * -1\n",
    "        result_arr.append(frac_part * math.exp(exponent_part))\n",
    "        \n",
    "    return result_arr\n",
    "        "
   ]
  },
  {
   "cell_type": "markdown",
   "metadata": {},
   "source": [
    "### Maximum Likelihood for Gaussian Distribution\n",
    "As per Bishop, the simple form for calculating likelihood is:\n",
    "$\\Large \\mu = \\frac{1}{N}\\Sigma_{n=1}^{N}x_n$ a.k.a. $\\Large \\pi_k$"
   ]
  },
  {
   "cell_type": "code",
   "execution_count": null,
   "metadata": {},
   "outputs": [],
   "source": [
    "def likelihood(col):    \n",
    "    return sum(col) / len(col)"
   ]
  },
  {
   "cell_type": "markdown",
   "metadata": {},
   "source": [
    "### Observation\n",
    "Having looked at the data, we need to be able to bin the data\n",
    "Our focus, based on feature engineering, will be the Averages"
   ]
  },
  {
   "cell_type": "code",
   "execution_count": null,
   "metadata": {},
   "outputs": [],
   "source": [
    "## Expects two column dataframe\n",
    "## date, value and the increment size\n",
    "## size is number of years to bin\n",
    "## Min is 1922 (start 1920), Max is 2011 (stop 2020)\n",
    "## Bins and averages values\n",
    "def bin_data(df, size):\n",
    "    ## Init bins\n",
    "    dates = [i for i in range(1920,2030,size)]\n",
    "    values = [0 for _ in range(1920,2030,size)]\n",
    "    \n",
    "    ## track count and bin index\n",
    "    count = 0\n",
    "    i = 0\n",
    "    \n",
    "    for yr, val in df.values:\n",
    "        if int(yr) < int(dates[i+1]):\n",
    "            count += 1\n",
    "            values[i] += val\n",
    "        else:\n",
    "            values[i] /= count\n",
    "            count = 0\n",
    "            i += 1\n",
    "            values[i] += val\n",
    "            \n",
    "    return [dates, values]"
   ]
  },
  {
   "cell_type": "code",
   "execution_count": null,
   "metadata": {},
   "outputs": [],
   "source": [
    "## Each column is numbered with 'TimbreAvg' as the prefix\n",
    "## label column is the date (year)\n",
    "## Init\n",
    "binsize = 10\n",
    "avestart = 1\n",
    "avestop = 13\n",
    "avestep = 1\n",
    "binned_df = pd.DataFrame()\n",
    "for i in range(avestart,avestop,avestep):\n",
    "    temp_df = df[['label', 'TimbreAvg'+str(i)]].copy()\n",
    "    temp_df = temp_df.sort_values(['label'], ascending=True)\n",
    "    bin_array = bin_data(temp_df,binsize)\n",
    "    if 'Year' not in binned_df:\n",
    "        binned_df['Year'] = bin_array[0]\n",
    "    binned_df['TimbreAvg'+str(i)] = bin_array[1]"
   ]
  },
  {
   "cell_type": "markdown",
   "metadata": {},
   "source": [
    "### Perform Guassian Transformation on each column (TimbreAve*)"
   ]
  },
  {
   "cell_type": "code",
   "execution_count": null,
   "metadata": {},
   "outputs": [],
   "source": [
    "## Init\n",
    "gauss_df = pd.DataFrame()\n",
    "likely = [0 for _ in range(avestart,avestop,avestep)]\n",
    "gauss_df['Year'] = binned_df['Year']\n",
    "for i in range(avestart,avestop,avestep):\n",
    "    ## Pass each column to the transformation function\n",
    "    gauss_df['TimbreAvg'+str(i)] = gauss_transform(binned_df['TimbreAvg'+str(i)].values.tolist())\n",
    "    likely[i-1] = likelihood(gauss_df['TimbreAvg'+str(i)].values.tolist())"
   ]
  },
  {
   "cell_type": "markdown",
   "metadata": {},
   "source": [
    "#### Gaussian Averaging\n",
    "Given a Gaussian Distribution Function, the following function will compress the data into decades for easier visualization. This binning is done due to looking at the unbinned data and needing to smooth the trends. By processing the data by ordered element and combining data points that fall within the same decade (i.e. - 2001, 2002, 2003, etc.), we can create a much smoother graph for making observations about the data."
   ]
  },
  {
   "cell_type": "code",
   "execution_count": null,
   "metadata": {},
   "outputs": [],
   "source": [
    "gaus_plots = []\n",
    "timbre = 'TimbreAvg'\n",
    "timbre_aves = [timbre+str(i) for i in range(1,10)]\n",
    "counter = 1\n",
    "for tave in timbre_aves:\n",
    "    gaus_vals = gauss_transform(df[tave].values.tolist())\n",
    "    years = df['label'].values.tolist()\n",
    "    gaus_plot = pd.DataFrame({'Year': years,'TA'+str(timbre_aves.index(tave)): gaus_vals})\n",
    "    gaus_plots.append(goGausAveGraph(gaus_plot, counter))\n",
    "    counter += 1"
   ]
  },
  {
   "cell_type": "code",
   "execution_count": null,
   "metadata": {},
   "outputs": [],
   "source": [
    "x = gaus_plots[3]['Year'].values.tolist()\n",
    "y = gaus_plots[3]['TA4'].values.tolist()\n",
    "y = [y[i]+gaus_plots[2]['TA3'].values.tolist()[i] for i in range(len(y))]\n",
    "y = [y[i]+gaus_plots[6]['TA7'].values.tolist()[i] for i in range(len(y))]\n",
    "y = [y[i]/3 for i in range(len(y))]\n",
    "aveplot = pd.DataFrame({'Year': x,'AVE': y})"
   ]
  },
  {
   "cell_type": "code",
   "execution_count": null,
   "metadata": {},
   "outputs": [],
   "source": [
    "for i in range(1,len(gaus_plots)):\n",
    "    if i in [1,4,5,7,8]:\n",
    "        continue\n",
    "    TA = 'TA'+str(i+1)\n",
    "    gplot = gaus_plots[i]\n",
    "    plt.plot( 'Year', str(TA), data=gplot, marker='', linewidth=2)\n",
    "    \n",
    "plt.plot( 'Year', 'AVE', data=aveplot, marker='', linewidth=4)\n",
    "plt.legend()\n",
    "plt.show()\n"
   ]
  },
  {
   "cell_type": "markdown",
   "metadata": {},
   "source": [
    "#### Conclusion\n",
    "In the above graphs, we have eliminated data that was either an outlier or that did not follow an interesting trend that we noticed developing in the dataset.  By plotting the three normalized features together in the above graph, we then applied an average across all three features to establish a trend baseline for describing the observed trend.  As an observation of our final data, the instruments/styles that these timbres represent fell out of popularity entering the 2000's and beyond."
   ]
  },
  {
   "cell_type": "code",
   "execution_count": null,
   "metadata": {},
   "outputs": [],
   "source": []
  }
 ],
 "metadata": {
  "kernelspec": {
   "display_name": "Python 3",
   "language": "python",
   "name": "python3"
  },
  "language_info": {
   "codemirror_mode": {
    "name": "ipython",
    "version": 3
   },
   "file_extension": ".py",
   "mimetype": "text/x-python",
   "name": "python",
   "nbconvert_exporter": "python",
   "pygments_lexer": "ipython3",
   "version": "3.7.1"
  }
 },
 "nbformat": 4,
 "nbformat_minor": 2
}
