{
 "cells": [
  {
   "cell_type": "markdown",
   "metadata": {},
   "source": [
    "# Probably Interesting Data\n",
    " - Dalton Hahn (2762306) and Ron Andrews (1083734)\n",
    "## Localization Data for Posture Reconstruction\n",
    "\n",
    "### Build a heuristic to model the data using mixture models of probability distributions programmatically\n",
    "https://www.kaggle.com/uciml/posture-reconstruction\n",
    "\n",
    "**An important note is that the .zip file provided on kaggle and the .zip file that we utilize in the pandas read_csv() call are different.  In order to properly read in the data using pandas, we opened the .zip archive provided from kaggle and removed a README file present within the directory.  From there, we simply re-compressed the file and uploaded it within the /data/external/ directory.  The .zip present within this Github repository is the correct .zip archive that functions correctly with our program. **\n",
    "\n"
   ]
  },
  {
   "cell_type": "markdown",
   "metadata": {},
   "source": [
    "## Madness Method\n",
    "We will first investigate the data available in the kaggle dataset for posture recognition in elderly people.  The data was collected from various sensors present upon subject's bodies.  We begin first by searching for interesting features present in the data.\n",
    "\n",
    "Once an area of focus has been established, we begin the normalization process using Gaussian Normal Distribution Functions.\n",
    "\n",
    "\n",
    "\n",
    "Timbre from various songs over time to identify the trends in the data - looking for interesting features in the data.\n",
    "Once we have determined the values of focus, we will normalize the data using a Guassian Normal Distribution Function.\n",
    "With the normalized model data, we will plot the values, looking for interesting trends in the data. We will remove data that is uninteresting (few characteristics) or which go out of bounds from the more 'normal' dataset.\n",
    "At the end, with our final collection of data parameters, we will plot a mean function against the data to see where the moderate pattern lies."
   ]
  },
  {
   "cell_type": "code",
   "execution_count": 1,
   "metadata": {},
   "outputs": [],
   "source": [
    "import pandas as pd\n",
    "import numpy as np\n",
    "import datetime as dt\n",
    "import seaborn as sns\n",
    "import matplotlib.pyplot as plt\n",
    "import math\n",
    "from statistics import mean, stdev"
   ]
  },
  {
   "cell_type": "markdown",
   "metadata": {},
   "source": [
    "## Read in the data"
   ]
  },
  {
   "cell_type": "code",
   "execution_count": 2,
   "metadata": {},
   "outputs": [],
   "source": [
    "df = pd.read_csv(\"../data/external/ConfLongDemo_JSI.csv.zip\", compression=\"zip\")"
   ]
  },
  {
   "cell_type": "code",
   "execution_count": 3,
   "metadata": {},
   "outputs": [
    {
     "data": {
      "text/html": [
       "<div>\n",
       "<style scoped>\n",
       "    .dataframe tbody tr th:only-of-type {\n",
       "        vertical-align: middle;\n",
       "    }\n",
       "\n",
       "    .dataframe tbody tr th {\n",
       "        vertical-align: top;\n",
       "    }\n",
       "\n",
       "    .dataframe thead th {\n",
       "        text-align: right;\n",
       "    }\n",
       "</style>\n",
       "<table border=\"1\" class=\"dataframe\">\n",
       "  <thead>\n",
       "    <tr style=\"text-align: right;\">\n",
       "      <th></th>\n",
       "      <th>A01</th>\n",
       "      <th>010-000-024-033</th>\n",
       "      <th>633790226051280329</th>\n",
       "      <th>27.05.2009 14:03:25:127</th>\n",
       "      <th>4.062931060791016</th>\n",
       "      <th>1.8924342393875122</th>\n",
       "      <th>0.5074254274368286</th>\n",
       "      <th>walking</th>\n",
       "    </tr>\n",
       "  </thead>\n",
       "  <tbody>\n",
       "    <tr>\n",
       "      <th>0</th>\n",
       "      <td>A01</td>\n",
       "      <td>020-000-033-111</td>\n",
       "      <td>633790226051820913</td>\n",
       "      <td>27.05.2009 14:03:25:183</td>\n",
       "      <td>4.291954</td>\n",
       "      <td>1.78114</td>\n",
       "      <td>1.344495</td>\n",
       "      <td>walking</td>\n",
       "    </tr>\n",
       "  </tbody>\n",
       "</table>\n",
       "</div>"
      ],
      "text/plain": [
       "   A01  010-000-024-033  633790226051280329  27.05.2009 14:03:25:127  \\\n",
       "0  A01  020-000-033-111  633790226051820913  27.05.2009 14:03:25:183   \n",
       "\n",
       "   4.062931060791016  1.8924342393875122  0.5074254274368286  walking  \n",
       "0           4.291954             1.78114            1.344495  walking  "
      ]
     },
     "execution_count": 3,
     "metadata": {},
     "output_type": "execute_result"
    }
   ],
   "source": [
    "df.head(1)"
   ]
  },
  {
   "cell_type": "markdown",
   "metadata": {},
   "source": [
    "## Feature Engineering"
   ]
  },
  {
   "cell_type": "code",
   "execution_count": 4,
   "metadata": {},
   "outputs": [
    {
     "data": {
      "text/plain": [
       "array(['walking', 'sitting down', 'sitting', 'standing up from sitting',\n",
       "       'falling', 'lying', 'standing up from lying', 'lying down',\n",
       "       'sitting on the ground', 'standing up from sitting on the ground',\n",
       "       'on all fours'], dtype=object)"
      ]
     },
     "execution_count": 4,
     "metadata": {},
     "output_type": "execute_result"
    }
   ],
   "source": [
    "df[df.columns[7]].unique()"
   ]
  },
  {
   "cell_type": "code",
   "execution_count": 5,
   "metadata": {},
   "outputs": [
    {
     "data": {
      "image/png": "[encoded data removed]",
      "text/plain": [
       "<Figure size 432x288 with 1 Axes>"
      ]
     },
     "metadata": {
      "needs_background": "light"
     },
     "output_type": "display_data"
    }
   ],
   "source": [
    "hist = df.hist(column = df.columns[4])"
   ]
  },
  {
   "cell_type": "code",
   "execution_count": 6,
   "metadata": {},
   "outputs": [
    {
     "data": {
      "image/png": "[encoded data removed]",
      "text/plain": [
       "<Figure size 432x288 with 1 Axes>"
      ]
     },
     "metadata": {
      "needs_background": "light"
     },
     "output_type": "display_data"
    }
   ],
   "source": [
    "hist = df.hist(column = df.columns[5])"
   ]
  },
  {
   "cell_type": "code",
   "execution_count": 7,
   "metadata": {},
   "outputs": [
    {
     "data": {
      "image/png": "[encoded data removed]",
      "text/plain": [
       "<Figure size 432x288 with 1 Axes>"
      ]
     },
     "metadata": {
      "needs_background": "light"
     },
     "output_type": "display_data"
    }
   ],
   "source": [
    "hist = df.hist(column = df.columns[6])"
   ]
  },
  {
   "cell_type": "code",
   "execution_count": 8,
   "metadata": {},
   "outputs": [
    {
     "data": {
      "image/png": "[encoded data removed]",
      "text/plain": [
       "<Figure size 432x288 with 1 Axes>"
      ]
     },
     "metadata": {
      "needs_background": "light"
     },
     "output_type": "display_data"
    }
   ],
   "source": [
    "plt.plot(df['walking'], df['4.062931060791016'], 'ro')\n",
    "plt.show()"
   ]
  },
  {
   "cell_type": "code",
   "execution_count": 9,
   "metadata": {},
   "outputs": [
    {
     "data": {
      "image/png": "[encoded data removed]",
      "text/plain": [
       "<Figure size 432x288 with 1 Axes>"
      ]
     },
     "metadata": {
      "needs_background": "light"
     },
     "output_type": "display_data"
    }
   ],
   "source": [
    "plt.plot(df['walking'], df['1.8924342393875122'], 'ro')\n",
    "plt.show()"
   ]
  },
  {
   "cell_type": "code",
   "execution_count": 10,
   "metadata": {},
   "outputs": [
    {
     "data": {
      "image/png": "[encoded data removed]",
      "text/plain": [
       "<Figure size 432x288 with 1 Axes>"
      ]
     },
     "metadata": {
      "needs_background": "light"
     },
     "output_type": "display_data"
    }
   ],
   "source": [
    "plt.plot(df['walking'], df['0.5074254274368286'], 'ro')\n",
    "plt.show()"
   ]
  },
  {
   "cell_type": "markdown",
   "metadata": {},
   "source": [
    "Based on observation from the above graphs, we decided to focus on the relationship between the X,Y,Z positions of the data relative to the \"posture\" of the subject"
   ]
  },
  {
   "cell_type": "code",
   "execution_count": 11,
   "metadata": {},
   "outputs": [],
   "source": [
    "def gaus_mixed(df):\n",
    "    ## Go through the dataframe and tabulate\n",
    "    ## Init\n",
    "    mixed = [0 for _ in range(df.shape[0])]\n",
    "    counter = 0\n",
    "    mixed_df = pd.DataFrame()\n",
    "    for index, row in df.iterrows():\n",
    "        for i in range(len(likely)):\n",
    "            mixed[counter] += row['TimbreAvg'+str(i+1)] *likely[i]\n",
    "        counter += 1\n",
    "    mixed_df['Year'] = gauss_df['Year']\n",
    "    mixed_df['MIXED'] = mixed\n",
    "    \n",
    "    return(mixed_df)"
   ]
  },
  {
   "cell_type": "code",
   "execution_count": 12,
   "metadata": {},
   "outputs": [],
   "source": [
    "def vector_magnitude(x,y,z):\n",
    "    return(math.sqrt((x**2)+(y**2)+(z**2)))"
   ]
  },
  {
   "cell_type": "code",
   "execution_count": 13,
   "metadata": {},
   "outputs": [],
   "source": [
    "#Iterate through each row and pass the vector_magnitude function the x,y,z values\n",
    "#Create new dataframe that will hold datetime, label, and the magnitude\n",
    "#df['walking'].unique().tolist()\n",
    "\n",
    "vector_array = []\n",
    "cols = df['walking'].unique().tolist()\n",
    "for index,row in df.iterrows():\n",
    "    for col in cols:\n",
    "        if col in row[7] and len(col) == len(row[7]):\n",
    "            vector_array.append( {\n",
    "                'datetime': row[3],\n",
    "                col: vector_magnitude(row[4],row[5],row[6])\n",
    "            })"
   ]
  },
  {
   "cell_type": "code",
   "execution_count": 14,
   "metadata": {},
   "outputs": [
    {
     "data": {
      "text/html": [
       "<div>\n",
       "<style scoped>\n",
       "    .dataframe tbody tr th:only-of-type {\n",
       "        vertical-align: middle;\n",
       "    }\n",
       "\n",
       "    .dataframe tbody tr th {\n",
       "        vertical-align: top;\n",
       "    }\n",
       "\n",
       "    .dataframe thead th {\n",
       "        text-align: right;\n",
       "    }\n",
       "</style>\n",
       "<table border=\"1\" class=\"dataframe\">\n",
       "  <thead>\n",
       "    <tr style=\"text-align: right;\">\n",
       "      <th></th>\n",
       "      <th>datetime</th>\n",
       "      <th>falling</th>\n",
       "      <th>lying</th>\n",
       "      <th>lying down</th>\n",
       "      <th>on all fours</th>\n",
       "      <th>sitting</th>\n",
       "      <th>sitting down</th>\n",
       "      <th>sitting on the ground</th>\n",
       "      <th>standing up from lying</th>\n",
       "      <th>standing up from sitting</th>\n",
       "      <th>standing up from sitting on the ground</th>\n",
       "      <th>walking</th>\n",
       "    </tr>\n",
       "  </thead>\n",
       "  <tbody>\n",
       "    <tr>\n",
       "      <th>0</th>\n",
       "      <td>27.05.2009 14:03:25:183</td>\n",
       "      <td>NaN</td>\n",
       "      <td>NaN</td>\n",
       "      <td>NaN</td>\n",
       "      <td>NaN</td>\n",
       "      <td>NaN</td>\n",
       "      <td>NaN</td>\n",
       "      <td>NaN</td>\n",
       "      <td>NaN</td>\n",
       "      <td>NaN</td>\n",
       "      <td>NaN</td>\n",
       "      <td>4.837457</td>\n",
       "    </tr>\n",
       "    <tr>\n",
       "      <th>1</th>\n",
       "      <td>27.05.2009 14:03:25:210</td>\n",
       "      <td>NaN</td>\n",
       "      <td>NaN</td>\n",
       "      <td>NaN</td>\n",
       "      <td>NaN</td>\n",
       "      <td>NaN</td>\n",
       "      <td>NaN</td>\n",
       "      <td>NaN</td>\n",
       "      <td>NaN</td>\n",
       "      <td>NaN</td>\n",
       "      <td>NaN</td>\n",
       "      <td>4.824554</td>\n",
       "    </tr>\n",
       "    <tr>\n",
       "      <th>2</th>\n",
       "      <td>27.05.2009 14:03:25:237</td>\n",
       "      <td>NaN</td>\n",
       "      <td>NaN</td>\n",
       "      <td>NaN</td>\n",
       "      <td>NaN</td>\n",
       "      <td>NaN</td>\n",
       "      <td>NaN</td>\n",
       "      <td>NaN</td>\n",
       "      <td>NaN</td>\n",
       "      <td>NaN</td>\n",
       "      <td>NaN</td>\n",
       "      <td>4.523590</td>\n",
       "    </tr>\n",
       "    <tr>\n",
       "      <th>3</th>\n",
       "      <td>27.05.2009 14:03:25:263</td>\n",
       "      <td>NaN</td>\n",
       "      <td>NaN</td>\n",
       "      <td>NaN</td>\n",
       "      <td>NaN</td>\n",
       "      <td>NaN</td>\n",
       "      <td>NaN</td>\n",
       "      <td>NaN</td>\n",
       "      <td>NaN</td>\n",
       "      <td>NaN</td>\n",
       "      <td>NaN</td>\n",
       "      <td>4.820194</td>\n",
       "    </tr>\n",
       "    <tr>\n",
       "      <th>4</th>\n",
       "      <td>27.05.2009 14:03:25:290</td>\n",
       "      <td>NaN</td>\n",
       "      <td>NaN</td>\n",
       "      <td>NaN</td>\n",
       "      <td>NaN</td>\n",
       "      <td>NaN</td>\n",
       "      <td>NaN</td>\n",
       "      <td>NaN</td>\n",
       "      <td>NaN</td>\n",
       "      <td>NaN</td>\n",
       "      <td>NaN</td>\n",
       "      <td>4.884659</td>\n",
       "    </tr>\n",
       "  </tbody>\n",
       "</table>\n",
       "</div>"
      ],
      "text/plain": [
       "                  datetime  falling  lying  lying down  on all fours  sitting  \\\n",
       "0  27.05.2009 14:03:25:183      NaN    NaN         NaN           NaN      NaN   \n",
       "1  27.05.2009 14:03:25:210      NaN    NaN         NaN           NaN      NaN   \n",
       "2  27.05.2009 14:03:25:237      NaN    NaN         NaN           NaN      NaN   \n",
       "3  27.05.2009 14:03:25:263      NaN    NaN         NaN           NaN      NaN   \n",
       "4  27.05.2009 14:03:25:290      NaN    NaN         NaN           NaN      NaN   \n",
       "\n",
       "   sitting down  sitting on the ground  standing up from lying  \\\n",
       "0           NaN                    NaN                     NaN   \n",
       "1           NaN                    NaN                     NaN   \n",
       "2           NaN                    NaN                     NaN   \n",
       "3           NaN                    NaN                     NaN   \n",
       "4           NaN                    NaN                     NaN   \n",
       "\n",
       "   standing up from sitting  standing up from sitting on the ground   walking  \n",
       "0                       NaN                                     NaN  4.837457  \n",
       "1                       NaN                                     NaN  4.824554  \n",
       "2                       NaN                                     NaN  4.523590  \n",
       "3                       NaN                                     NaN  4.820194  \n",
       "4                       NaN                                     NaN  4.884659  "
      ]
     },
     "execution_count": 14,
     "metadata": {},
     "output_type": "execute_result"
    }
   ],
   "source": [
    "vector_df = pd.DataFrame(vector_array)\n",
    "vector_df.head()"
   ]
  },
  {
   "cell_type": "code",
   "execution_count": 15,
   "metadata": {},
   "outputs": [
    {
     "data": {
      "image/png": "[encoded data removed]",
      "text/plain": [
       "<Figure size 432x288 with 1 Axes>"
      ]
     },
     "metadata": {
      "needs_background": "light"
     },
     "output_type": "display_data"
    }
   ],
   "source": [
    "vector_df.plot(x='datetime', y=cols)\n",
    "plt.show()"
   ]
  },
  {
   "cell_type": "markdown",
   "metadata": {},
   "source": [
    "## Work the data into a Mixed Guassian Model"
   ]
  },
  {
   "cell_type": "markdown",
   "metadata": {},
   "source": [
    "#### Guassian Transformation\n",
    "The following function, gauss_transform, goes through the dataset and normalizes all of the values using a Gaussian distribution function: \n",
    "$\\Large \\mathcal{N}(x|\\mu,\\sigma^2) = \\frac{1}{\\sigma \\sqrt{2 \\pi}}    e^{-\\frac{(x - \\mu)^2}{2 (\\mu^2)}}$"
   ]
  },
  {
   "cell_type": "code",
   "execution_count": 16,
   "metadata": {},
   "outputs": [],
   "source": [
    "def gauss_transform(col):\n",
    "    \n",
    "    cleanCol = [x for x in col if str(x) != 'nan']\n",
    "\n",
    "    result_arr = []\n",
    "    \n",
    "    mu = mean(cleanCol)\n",
    "    sig = stdev(cleanCol)\n",
    "    frac_part = 1/(sig*math.sqrt(2*math.pi))\n",
    "    for val in col:\n",
    "        if val != 'nan':\n",
    "            exponent_part = ((val - mu)**2) / (2*(mu**2)) * -1\n",
    "            result_arr.append(frac_part * math.exp(exponent_part))\n",
    "    return result_arr\n",
    "        "
   ]
  },
  {
   "cell_type": "markdown",
   "metadata": {},
   "source": [
    "### Maximum Likelihood for Gaussian Distribution\n",
    "As per Bishop, the simple form for calculating likelihood is:\n",
    "$\\Large \\mu = \\frac{1}{N}\\Sigma_{n=1}^{N}x_n$ a.k.a. $\\Large \\pi_k$"
   ]
  },
  {
   "cell_type": "code",
   "execution_count": 17,
   "metadata": {},
   "outputs": [],
   "source": [
    "def likelihood(col):\n",
    "    \n",
    "    cleanCol = [x for x in col if str(x) != 'nan']\n",
    "    \n",
    "    return sum(col) / len(cleanCol)"
   ]
  },
  {
   "cell_type": "markdown",
   "metadata": {},
   "source": [
    "### Perform Guassian Transformation on each column (Posture)"
   ]
  },
  {
   "cell_type": "code",
   "execution_count": 18,
   "metadata": {},
   "outputs": [
    {
     "data": {
      "text/html": [
       "<div>\n",
       "<style scoped>\n",
       "    .dataframe tbody tr th:only-of-type {\n",
       "        vertical-align: middle;\n",
       "    }\n",
       "\n",
       "    .dataframe tbody tr th {\n",
       "        vertical-align: top;\n",
       "    }\n",
       "\n",
       "    .dataframe thead th {\n",
       "        text-align: right;\n",
       "    }\n",
       "</style>\n",
       "<table border=\"1\" class=\"dataframe\">\n",
       "  <thead>\n",
       "    <tr style=\"text-align: right;\">\n",
       "      <th></th>\n",
       "      <th>datetime</th>\n",
       "      <th>falling</th>\n",
       "      <th>lying</th>\n",
       "      <th>lying down</th>\n",
       "      <th>on all fours</th>\n",
       "      <th>sitting</th>\n",
       "      <th>sitting down</th>\n",
       "      <th>sitting on the ground</th>\n",
       "      <th>standing up from lying</th>\n",
       "      <th>standing up from sitting</th>\n",
       "      <th>standing up from sitting on the ground</th>\n",
       "      <th>walking</th>\n",
       "    </tr>\n",
       "  </thead>\n",
       "  <tbody>\n",
       "    <tr>\n",
       "      <th>0</th>\n",
       "      <td>27.05.2009 14:03:25:183</td>\n",
       "      <td>NaN</td>\n",
       "      <td>NaN</td>\n",
       "      <td>NaN</td>\n",
       "      <td>NaN</td>\n",
       "      <td>NaN</td>\n",
       "      <td>NaN</td>\n",
       "      <td>NaN</td>\n",
       "      <td>NaN</td>\n",
       "      <td>NaN</td>\n",
       "      <td>NaN</td>\n",
       "      <td>4.837457</td>\n",
       "    </tr>\n",
       "    <tr>\n",
       "      <th>1</th>\n",
       "      <td>27.05.2009 14:03:25:210</td>\n",
       "      <td>NaN</td>\n",
       "      <td>NaN</td>\n",
       "      <td>NaN</td>\n",
       "      <td>NaN</td>\n",
       "      <td>NaN</td>\n",
       "      <td>NaN</td>\n",
       "      <td>NaN</td>\n",
       "      <td>NaN</td>\n",
       "      <td>NaN</td>\n",
       "      <td>NaN</td>\n",
       "      <td>4.824554</td>\n",
       "    </tr>\n",
       "    <tr>\n",
       "      <th>2</th>\n",
       "      <td>27.05.2009 14:03:25:237</td>\n",
       "      <td>NaN</td>\n",
       "      <td>NaN</td>\n",
       "      <td>NaN</td>\n",
       "      <td>NaN</td>\n",
       "      <td>NaN</td>\n",
       "      <td>NaN</td>\n",
       "      <td>NaN</td>\n",
       "      <td>NaN</td>\n",
       "      <td>NaN</td>\n",
       "      <td>NaN</td>\n",
       "      <td>4.523590</td>\n",
       "    </tr>\n",
       "    <tr>\n",
       "      <th>3</th>\n",
       "      <td>27.05.2009 14:03:25:263</td>\n",
       "      <td>NaN</td>\n",
       "      <td>NaN</td>\n",
       "      <td>NaN</td>\n",
       "      <td>NaN</td>\n",
       "      <td>NaN</td>\n",
       "      <td>NaN</td>\n",
       "      <td>NaN</td>\n",
       "      <td>NaN</td>\n",
       "      <td>NaN</td>\n",
       "      <td>NaN</td>\n",
       "      <td>4.820194</td>\n",
       "    </tr>\n",
       "    <tr>\n",
       "      <th>4</th>\n",
       "      <td>27.05.2009 14:03:25:290</td>\n",
       "      <td>NaN</td>\n",
       "      <td>NaN</td>\n",
       "      <td>NaN</td>\n",
       "      <td>NaN</td>\n",
       "      <td>NaN</td>\n",
       "      <td>NaN</td>\n",
       "      <td>NaN</td>\n",
       "      <td>NaN</td>\n",
       "      <td>NaN</td>\n",
       "      <td>NaN</td>\n",
       "      <td>4.884659</td>\n",
       "    </tr>\n",
       "  </tbody>\n",
       "</table>\n",
       "</div>"
      ],
      "text/plain": [
       "                  datetime  falling  lying  lying down  on all fours  sitting  \\\n",
       "0  27.05.2009 14:03:25:183      NaN    NaN         NaN           NaN      NaN   \n",
       "1  27.05.2009 14:03:25:210      NaN    NaN         NaN           NaN      NaN   \n",
       "2  27.05.2009 14:03:25:237      NaN    NaN         NaN           NaN      NaN   \n",
       "3  27.05.2009 14:03:25:263      NaN    NaN         NaN           NaN      NaN   \n",
       "4  27.05.2009 14:03:25:290      NaN    NaN         NaN           NaN      NaN   \n",
       "\n",
       "   sitting down  sitting on the ground  standing up from lying  \\\n",
       "0           NaN                    NaN                     NaN   \n",
       "1           NaN                    NaN                     NaN   \n",
       "2           NaN                    NaN                     NaN   \n",
       "3           NaN                    NaN                     NaN   \n",
       "4           NaN                    NaN                     NaN   \n",
       "\n",
       "   standing up from sitting  standing up from sitting on the ground   walking  \n",
       "0                       NaN                                     NaN  4.837457  \n",
       "1                       NaN                                     NaN  4.824554  \n",
       "2                       NaN                                     NaN  4.523590  \n",
       "3                       NaN                                     NaN  4.820194  \n",
       "4                       NaN                                     NaN  4.884659  "
      ]
     },
     "execution_count": 18,
     "metadata": {},
     "output_type": "execute_result"
    }
   ],
   "source": [
    "vector_df.head()"
   ]
  },
  {
   "cell_type": "code",
   "execution_count": null,
   "metadata": {},
   "outputs": [],
   "source": [
    "## Init\n",
    "gauss_df = pd.DataFrame()\n",
    "likely = [0 for _ in cols]\n",
    "gauss_df['datetime'] = vector_df['datetime']\n",
    "for i in range(len(cols)):\n",
    "    ## Pass each column to the transformation function\n",
    "    gauss_df[cols[i]] = gauss_transform(vector_df[cols[i]].values.tolist())\n",
    "    likely[i-1] = likelihood(gauss_df[cols[i]].values.tolist())"
   ]
  },
  {
   "cell_type": "markdown",
   "metadata": {},
   "source": [
    "### Generate the mixed model - Mixture of Gaussians\n",
    "$\\Large p(x) = \\Sigma_{k=1}^{K}\\pi_k \\mathcal{N}(x|\\mu_k,{\\small \\Sigma}_k)$"
   ]
  },
  {
   "cell_type": "code",
   "execution_count": null,
   "metadata": {},
   "outputs": [],
   "source": [
    "## Go through the dataframe and tabulate\n",
    "## Init\n",
    "mixed = [0 for _ in range(gauss_df.shape[0])]\n",
    "counter = 0\n",
    "mixed_df = pd.DataFrame()\n",
    "for index, row in gauss_df.iterrows():\n",
    "    for i in range(len(likely)):\n",
    "        mixed[counter] += row[cols[i]] *likely[i]\n",
    "    counter += 1\n",
    "mixed_df['datetime'] = gauss_df['datetime']\n",
    "mixed_df['MIXED'] = mixed"
   ]
  },
  {
   "cell_type": "code",
   "execution_count": null,
   "metadata": {},
   "outputs": [],
   "source": [
    "print(gauss_df.head(1))"
   ]
  },
  {
   "cell_type": "code",
   "execution_count": null,
   "metadata": {},
   "outputs": [],
   "source": [
    "cols.append('MIXED')\n",
    "gauss_df['MIXED'] = mixed_df['MIXED']\n",
    "gauss_df.plot(figsize=(14, 10), x='datetime', y=cols)\n",
    "plt.show()"
   ]
  },
  {
   "cell_type": "code",
   "execution_count": null,
   "metadata": {},
   "outputs": [],
   "source": []
  }
 ],
 "metadata": {
  "kernelspec": {
   "display_name": "Python 3",
   "language": "python",
   "name": "python3"
  },
  "language_info": {
   "codemirror_mode": {
    "name": "ipython",
    "version": 3
   },
   "file_extension": ".py",
   "mimetype": "text/x-python",
   "name": "python",
   "nbconvert_exporter": "python",
   "pygments_lexer": "ipython3",
   "version": "3.7.1"
  }
 },
 "nbformat": 4,
 "nbformat_minor": 2
}
